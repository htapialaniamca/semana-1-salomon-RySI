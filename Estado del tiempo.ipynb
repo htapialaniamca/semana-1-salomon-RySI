{
 "cells": [
  {
   "cell_type": "code",
   "execution_count": 3,
   "metadata": {},
   "outputs": [],
   "source": [
    "import android"
   ]
  },
  {
   "cell_type": "code",
   "execution_count": 4,
   "metadata": {},
   "outputs": [],
   "source": [
    "droide = android.Android()"
   ]
  },
  {
   "cell_type": "code",
   "execution_count": 47,
   "metadata": {},
   "outputs": [
    {
     "data": {
      "text/plain": [
       "Result(id=61, result=None, error=None)"
      ]
     },
     "execution_count": 47,
     "metadata": {},
     "output_type": "execute_result"
    }
   ],
   "source": [
    "import datetime \n",
    "loc = droide.getLastKnownLocation().result\n",
    "if loc[\"gps\"] is not None:\n",
    "    loc = loc[\"gps\"]\n",
    "else:\n",
    "    loc = loc[\"network\"]\n",
    "lat=loc[\"latitude\"]\n",
    "lon=loc[\"longitude\"]\n",
    "direccion = droide.geocode(lat,lon)\n",
    "time = loc[\"time\"]\n",
    "FechaHora = datetime.datetime.fromtimestamp(time/1e3)\n",
    "Fechaok=FechaHora.strftime(\"%H %M %S del dia %A %d de %B del año %Y\")\n",
    "cp = direccion.result[0][\"postal_code\"]\n",
    "cc = direccion.result[0][\"country_code\"]\n",
    "ciu = direccion.result[0][\"locality\"]\n",
    "calle = direccion.result[0][\"thoroughfare\"]\n",
    "url=\"http://api.openweathermap.org/data/2.5/weather?zip={0},{1}&APPID=dfeea5e604e1948b28652216ad910d11\".format(cp,cc)\n",
    "import requests\n",
    "r=requests.get(url).json()\n",
    "wdesc=r[\"weather\"][0]['description']\n",
    "mensaje='En la ciudad de '+ciu+' siendo las '+FechaHora.strftime(\"%H\")+' horas '+FechaHora.strftime(\"%M\")+' minutos '+FechaHora.strftime(\"%S\")+' segundos en la calle de '+calle+', el estado del tiempo es '+wdesc\n",
    "droide.makeToast(mensaje)\n",
    "droide.ttsSpeak(mensaje)"
   ]
  },
  {
   "cell_type": "code",
   "execution_count": null,
   "metadata": {},
   "outputs": [],
   "source": []
  }
 ],
 "metadata": {
  "kernelspec": {
   "display_name": "Python 2",
   "language": "python",
   "name": "python2"
  },
  "language_info": {
   "codemirror_mode": {
    "name": "ipython",
    "version": 2
   },
   "file_extension": ".py",
   "mimetype": "text/x-python",
   "name": "python",
   "nbconvert_exporter": "python",
   "pygments_lexer": "ipython2",
   "version": "2.7.14"
  }
 },
 "nbformat": 4,
 "nbformat_minor": 2
}
